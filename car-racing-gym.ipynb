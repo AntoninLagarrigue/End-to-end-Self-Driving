{
 "cells": [
  {
   "cell_type": "code",
   "execution_count": 12,
   "metadata": {},
   "outputs": [],
   "source": [
    "import gym\n",
    "\n",
    "import numpy as np\n",
    "\n",
    "%matplotlib inline\n",
    "import matplotlib as mpl\n",
    "import matplotlib.pyplot as plt\n",
    "mpl.rc('axes', labelsize=14)\n",
    "mpl.rc('xtick', labelsize=12)\n",
    "mpl.rc('ytick', labelsize=12)\n",
    "import matplotlib.animation as animation\n",
    "mpl.rc('animation', html='jshtml')"
   ]
  },
  {
   "cell_type": "code",
   "execution_count": 13,
   "metadata": {},
   "outputs": [
    {
     "name": "stderr",
     "output_type": "stream",
     "text": [
      "C:\\Users\\antol\\anaconda3\\lib\\site-packages\\gym\\logger.py:30: UserWarning: \u001b[33mWARN: Box bound precision lowered by casting to float32\u001b[0m\n",
      "  warnings.warn(colorize('%s: %s'%('WARN', msg % args), 'yellow'))\n"
     ]
    }
   ],
   "source": [
    "env_name = \"CarRacing-v0\"\n",
    "env = gym.make(env_name)"
   ]
  },
  {
   "cell_type": "code",
   "execution_count": 60,
   "metadata": {},
   "outputs": [
    {
     "name": "stdout",
     "output_type": "stream",
     "text": [
      "Observation Space: Box(0, 255, (96, 96, 3), uint8)\n",
      "Action Space: Box(-1.0, 1.0, (3,), float32)\n"
     ]
    }
   ],
   "source": [
    "print('Observation Space:', env.observation_space)\n",
    "print('Action Space:', env.action_space)"
   ]
  },
  {
   "cell_type": "code",
   "execution_count": 67,
   "metadata": {},
   "outputs": [],
   "source": [
    "# arg 0 : i don't know\n",
    "# arg 1 : speed\n",
    "# arg 2 : faaaast -1\n",
    "def naive_policy(i):\n",
    "    action = env.action_space.sample()\n",
    "    if i > 200 :\n",
    "        action[0] = 0\n",
    "        action[1] = 1\n",
    "        action[2] = 0.8\n",
    "    return action"
   ]
  },
  {
   "cell_type": "code",
   "execution_count": 69,
   "metadata": {},
   "outputs": [
    {
     "name": "stdout",
     "output_type": "stream",
     "text": [
      "Track generation: 1190..1492 -> 302-tiles track\n",
      "1000\n",
      "Sum of rewards: -26.9102990033223\n"
     ]
    },
    {
     "data": {
      "image/png": "[encoded data removed]",
      "text/plain": [
       "<Figure size 432x288 with 1 Axes>"
      ]
     },
     "metadata": {
      "needs_background": "light"
     },
     "output_type": "display_data"
    }
   ],
   "source": [
    "def play_episode(policy):\n",
    "    observation = env.reset()\n",
    "    i=0\n",
    "    sum_rewards=[]\n",
    "\n",
    "    while True:\n",
    "        env.render()\n",
    "        action = policy(i)\n",
    "        observation, reward, done, info = env.step(action)  \n",
    "        i+=1\n",
    "        sum_rewards.append(reward)\n",
    "        if done: \n",
    "            break;\n",
    "\n",
    "    print(i)\n",
    "    print('Sum of rewards:', np.sum(sum_rewards))\n",
    "    plt.plot(np.cumsum(sum_rewards))\n",
    "    env.close()\n",
    "\n",
    "play_episode(policy = naive_policy)"
   ]
  },
  {
   "cell_type": "code",
   "execution_count": 32,
   "metadata": {},
   "outputs": [],
   "source": [
    "env.close()"
   ]
  },
  {
   "cell_type": "markdown",
   "metadata": {},
   "source": [
    "## We chose to discretize the action space"
   ]
  },
  {
   "cell_type": "code",
   "execution_count": null,
   "metadata": {},
   "outputs": [],
   "source": [
    "action_space = [[-1,0,0],[0,0,0],[1,0,0],[0,1,0],[0,0,1]]\n",
    "n_actions = len(action_space)"
   ]
  }
 ],
 "metadata": {
  "kernelspec": {
   "display_name": "Python 3",
   "language": "python",
   "name": "python3"
  },
  "language_info": {
   "codemirror_mode": {
    "name": "ipython",
    "version": 3
   },
   "file_extension": ".py",
   "mimetype": "text/x-python",
   "name": "python",
   "nbconvert_exporter": "python",
   "pygments_lexer": "ipython3",
   "version": "3.8.5"
  }
 },
 "nbformat": 4,
 "nbformat_minor": 4
}
