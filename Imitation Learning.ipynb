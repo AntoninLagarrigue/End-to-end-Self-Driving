{
 "cells": [
  {
   "cell_type": "code",
   "execution_count": 7,
   "metadata": {},
   "outputs": [
    {
     "name": "stdout",
     "output_type": "stream",
     "text": [
      "\n"
     ]
    }
   ],
   "source": [
    "import gym\n",
    "import pickle\n",
    "\n",
    "import tensorflow as tf\n",
    "from tensorflow import keras\n",
    "print(tf.test.gpu_device_name())\n",
    "\n",
    "import cv2\n",
    "\n",
    "import numpy as np\n",
    "from collections import deque\n",
    "\n",
    "%matplotlib inline\n",
    "import matplotlib as mpl\n",
    "import matplotlib.pyplot as plt\n",
    "mpl.rc('axes', labelsize=14)\n",
    "mpl.rc('xtick', labelsize=12)\n",
    "mpl.rc('ytick', labelsize=12)\n",
    "import matplotlib.animation as animation\n",
    "mpl.rc('animation', html='jshtml')\n",
    "\n",
    "from pyglet.window import key\n",
    "import time"
   ]
  },
  {
   "cell_type": "code",
   "execution_count": 8,
   "metadata": {},
   "outputs": [],
   "source": [
    "env.seed(42)\n",
    "np.random.seed(42)"
   ]
  },
  {
   "cell_type": "code",
   "execution_count": 9,
   "metadata": {},
   "outputs": [],
   "source": [
    "class ObservationWrapper(gym.ObservationWrapper):\n",
    "    def __init__(self, env):\n",
    "        super().__init__(env)\n",
    "    \n",
    "    def observation(self, inputs):\n",
    "        inputs = cv2.cvtColor(inputs, cv2.COLOR_BGR2GRAY)\n",
    "        inputs = inputs.astype(float)\n",
    "        inputs /= 255.0\n",
    "        inputs = inputs[0:80, :]\n",
    "        inputs = np.expand_dims(inputs, axis=-1)\n",
    "        return inputs"
   ]
  },
  {
   "cell_type": "code",
   "execution_count": 10,
   "metadata": {},
   "outputs": [],
   "source": [
    "def update_scene(num, frames, patch):\n",
    "    patch.set_data(frames[num])\n",
    "    return patch,\n",
    "\n",
    "def plot_animation(frames, repeat=False, interval=40):\n",
    "    fig = plt.figure()\n",
    "    patch = plt.imshow(frames[0])\n",
    "    plt.axis('off')\n",
    "    anim = animation.FuncAnimation(\n",
    "        fig, update_scene, fargs=(frames, patch),\n",
    "        frames=len(frames), repeat=repeat, interval=interval)\n",
    "    plt.close()\n",
    "    return anim\n",
    "\n",
    "def render_policy_net(env, model, action_space, seed=42):\n",
    "        frames = []\n",
    "        env.seed(seed)\n",
    "        np.random.seed(seed)\n",
    "        obs = env.reset()\n",
    "        negative_reward_counter=0\n",
    "        for step in range(1000):\n",
    "            frames.append(env.render(mode=\"rgb_array\"))\n",
    "            action_probas = model(obs[np.newaxis])\n",
    "            print('action_probas', action_probas)\n",
    "            p=tf.squeeze(action_probas).numpy()\n",
    "            p /= np.sum(p)\n",
    "            action = np.random.choice(range(5), p=p)\n",
    "            print('action', action)\n",
    "            obs, reward, done, info = env.step(action_space[action])\n",
    "            if reward < 0:\n",
    "                negative_reward_counter +=1\n",
    "            else :\n",
    "                negative_reward_counter = 0\n",
    "            if done or negative_reward_counter > 75 :\n",
    "                break\n",
    "        env.close()\n",
    "        return frames"
   ]
  },
  {
   "cell_type": "markdown",
   "metadata": {},
   "source": [
    "## Deep Learning Model"
   ]
  },
  {
   "cell_type": "code",
   "execution_count": 16,
   "metadata": {},
   "outputs": [
    {
     "name": "stdout",
     "output_type": "stream",
     "text": [
      "Model: \"model_4\"\n",
      "__________________________________________________________________________________________________\n",
      "Layer (type)                    Output Shape         Param #     Connected to                     \n",
      "==================================================================================================\n",
      "input_6 (InputLayer)            [(None, 96, 96, 1)]  0                                            \n",
      "__________________________________________________________________________________________________\n",
      "conv2d_10 (Conv2D)              (None, 30, 30, 6)    390         input_6[0][0]                    \n",
      "__________________________________________________________________________________________________\n",
      "max_pooling2d_10 (MaxPooling2D) (None, 15, 15, 6)    0           conv2d_10[0][0]                  \n",
      "__________________________________________________________________________________________________\n",
      "conv2d_11 (Conv2D)              (None, 12, 12, 12)   1164        max_pooling2d_10[0][0]           \n",
      "__________________________________________________________________________________________________\n",
      "max_pooling2d_11 (MaxPooling2D) (None, 6, 6, 12)     0           conv2d_11[0][0]                  \n",
      "__________________________________________________________________________________________________\n",
      "flatten_5 (Flatten)             (None, 432)          0           max_pooling2d_11[0][0]           \n",
      "__________________________________________________________________________________________________\n",
      "dense_15 (Dense)                (None, 24)           10392       flatten_5[0][0]                  \n",
      "__________________________________________________________________________________________________\n",
      "dense_16 (Dense)                (None, 1)            25          dense_15[0][0]                   \n",
      "__________________________________________________________________________________________________\n",
      "dense_17 (Dense)                (None, 2)            50          dense_15[0][0]                   \n",
      "==================================================================================================\n",
      "Total params: 12,021\n",
      "Trainable params: 12,021\n",
      "Non-trainable params: 0\n",
      "__________________________________________________________________________________________________\n",
      "('Failed to import pydot. You must `pip install pydot` and install graphviz (https://graphviz.gitlab.io/download/), ', 'for `pydotprint` to work.')\n"
     ]
    }
   ],
   "source": [
    "x = keras.Input(shape=(96, 96, 1))\n",
    "conv1 = keras.layers.Conv2D(filters=6, kernel_size=(8, 8), strides = 3, activation='relu')(x)\n",
    "pool1 = keras.layers.MaxPooling2D(pool_size=(2, 2))(conv1)\n",
    "conv2 = keras.layers.Conv2D(filters=12, kernel_size=(4, 4), activation='relu')(pool1)\n",
    "pool2 = keras.layers.MaxPooling2D(pool_size=(2, 2))(conv2)\n",
    "flatten = keras.layers.Flatten()(pool2)\n",
    "dense1 = keras.layers.Dense(24, activation='relu')(flatten)\n",
    "output_angle = keras.layers.Dense(1, activation='tanh')(dense1)\n",
    "output_velocity_braking = keras.layers.Dense(2, activation='sigmoid')(dense1)\n",
    "model = tf.keras.Model(x, [output_angle, output_velocity_braking])\n",
    "model.summary()\n",
    "#keras.layers.Dense(self.n_actions)])\n",
    "keras.utils.plot_model(model, \"my_model.png\", show_shapes=True)"
   ]
  },
  {
   "cell_type": "markdown",
   "metadata": {},
   "source": [
    "## Human Playing"
   ]
  },
  {
   "cell_type": "code",
   "execution_count": 11,
   "metadata": {},
   "outputs": [],
   "source": [
    "class Trajectory :\n",
    "    def __init__(self):\n",
    "        super().__init__()\n",
    "        self.frames = []\n",
    "    \n",
    "    def add_frame(self, state, action):\n",
    "        frame = [state, action]\n",
    "        self.frames.append(frame)\n",
    "    \n",
    "    def clear_frames(self):\n",
    "        self.frames.clear()"
   ]
  },
  {
   "cell_type": "code",
   "execution_count": 12,
   "metadata": {},
   "outputs": [],
   "source": [
    "class Imitation_Learning:\n",
    "    def __init__(self,\n",
    "        env,\n",
    "        actions = np.array([0.0, 0.0, 0.0]),\n",
    "        #action_space = [[-1,0,0],[0,0,0],[1,0,0],[0,1,0],[0,0,1]],                 \n",
    "        n_frame_stack = 1,\n",
    "        optimizer = keras.optimizers.Adam(lr=1e-2),\n",
    "        loss_fn = keras.losses.categorical_crossentropy\n",
    "    ):\n",
    "        self.env             = env\n",
    "        self.actions         = actions\n",
    "        #self.action_space    = action_space\n",
    "        #self.n_actions       = len(action_space)\n",
    "        self.n_frame_stack   = n_frame_stack\n",
    "        self.optimizer       = optimizer\n",
    "        self.model           = self.build_model()\n",
    "        self.loss_fn         = loss_fn\n",
    "        self.do_not_quit     = True\n",
    "        self.trajectory      = Trajectory()\n",
    "\n",
    "    def build_model(self):\n",
    "        x = keras.Input(shape=(96, 96, 1))\n",
    "        conv1 = keras.layers.Conv2D(filters=6, kernel_size=(8, 8), activation='relu')(x)\n",
    "        pool1 = keras.layers.MaxPooling2D(pool_size=(2, 2))(conv1)\n",
    "        conv2 = keras.layers.Conv2D(filters=12, kernel_size=(4, 4), activation='relu')(pool1)\n",
    "        pool2 = keras.layers.MaxPooling2D(pool_size=(2, 2))(conv2)\n",
    "        flatten = keras.layers.Flatten()(pool2)\n",
    "        dense1 = keras.layers.Dense(24, activation='relu')(flatten)\n",
    "        output_angle = keras.layers.Dense(1, activation='tanh')(dense1)\n",
    "        output_velocity_braking = keras.layers.Dense(2, activation='sigmoid')(dense1)\n",
    "        model = tf.keras.Model(x, [output_angle, output_velocity_braking])\n",
    "        #keras.layers.Dense(self.n_actions)])\n",
    "        return model\n",
    "    \n",
    "    scores = []\n",
    "\n",
    "    # arg 0 : steering angle (-1 to 1)\n",
    "    # arg 1 : velocity (0 to 1)\n",
    "    # arg 2 : braking (0 to 1)\n",
    "\n",
    "    def press_key(self, k, mod):\n",
    "        if k==0xff0d: restart = True\n",
    "        if k==key.ESCAPE: self.do_not_quit=False\n",
    "        if k==key.LEFT:  self.actions[0] = -0.5\n",
    "        if k==key.RIGHT: self.actions[0] = +0.5\n",
    "        if k==key.UP:    self.actions[1] = +0.6\n",
    "        if k==key.DOWN:  self.actions[2] = +0.3\n",
    "\n",
    "    def release_key(self, k, mod):\n",
    "        if k==key.LEFT  and self.actions[0]<=-0.5: self.actions[0] = 0\n",
    "        if k==key.RIGHT and self.actions[0]>=+0.5: self.actions[0] = 0\n",
    "        if k==key.UP:    self.actions[1] = 0\n",
    "        if k==key.DOWN:  self.actions[2] = 0\n",
    "\n",
    "    def expert_play_carRacing(self, record_video=False):\n",
    "        global restart\n",
    "        scores = []\n",
    "\n",
    "        self.env.reset()\n",
    "        self.env.render()\n",
    "        \n",
    "        # to record it\n",
    "        if record_video:\n",
    "            self.env.monitor.start('/video', force=True)\n",
    "\n",
    "        self.env.viewer.window.on_key_press = self.press_key\n",
    "        self.env.viewer.window.on_key_release = self.release_key\n",
    "\n",
    "        while self.do_not_quit:\n",
    "            self.env.reset()\n",
    "            total_reward = 0.0\n",
    "            steps = 0\n",
    "            restart = False\n",
    "            t1 = time.time()  # Trial timer\n",
    "            while self.do_not_quit:\n",
    "                state, reward, done, info = self.env.step(self.actions)\n",
    "                self.trajectory.add_frame(state, self.actions)\n",
    "                # time.sleep(1/10)  # Slow down to 10fps for us poor little human!\n",
    "                total_reward += reward\n",
    "                if steps % 200 == 0 or done:\n",
    "                    print(\"Step: {} | Reward: {:+0.2f}\".format(steps, total_reward), \"| Action:\", self.actions)\n",
    "                steps += 1\n",
    "                if not record_video: # Faster, but you can as well call env.render() every time to play full window.\n",
    "                    self.env.render()\n",
    "                if done or restart or steps == 2000:\n",
    "                    t1 = time.time()-t1\n",
    "                    scores.append(total_reward)\n",
    "                    print(\"Trial\", len(scores), \"| Score:\", total_reward, '|', steps, \"steps | %0.2fs.\"% t1)\n",
    "                    break\n",
    "            if not self.do_not_quit:\n",
    "                scores.append(total_reward)\n",
    "                #plt.imshow(state)\n",
    "                print(\"Trial\", len(scores), \"| Score:\", total_reward, '|', steps, \"steps | %0.2fs.\"% t1)\n",
    "        self.env.close()"
   ]
  },
  {
   "cell_type": "code",
   "execution_count": 13,
   "metadata": {},
   "outputs": [
    {
     "name": "stdout",
     "output_type": "stream",
     "text": [
      "Track generation: 1103..1388 -> 285-tiles track\n",
      "Track generation: 1251..1568 -> 317-tiles track\n",
      "Step: 0 | Reward: +6.23 | Action: [0. 0. 0.]\n",
      "Step: 200 | Reward: +65.34 | Action: [0. 0. 0.]\n",
      "Step: 400 | Reward: +247.87 | Action: [0. 0. 0.]\n",
      "Step: 600 | Reward: +405.09 | Action: [0. 0. 0.]\n",
      "Step: 800 | Reward: +530.66 | Action: [0. 0. 0.]\n",
      "Trial 1 | Score: 599.337974683534 | 937 steps | 1616783642.27s.\n"
     ]
    }
   ],
   "source": [
    "env = gym.make('CarRacing-v0').env\n",
    "w_env = ObservationWrapper(env)\n",
    "IL_agent = Imitation_Learning(w_env)\n",
    "IL_agent.expert_play_carRacing()"
   ]
  },
  {
   "cell_type": "code",
   "execution_count": 14,
   "metadata": {},
   "outputs": [
    {
     "name": "stdout",
     "output_type": "stream",
     "text": [
      "937\n"
     ]
    }
   ],
   "source": [
    "print(len(IL_agent.trajectory.frames))"
   ]
  },
  {
   "cell_type": "code",
   "execution_count": 30,
   "metadata": {},
   "outputs": [],
   "source": [
    "env.close()"
   ]
  },
  {
   "cell_type": "code",
   "execution_count": 7,
   "metadata": {},
   "outputs": [
    {
     "data": {
      "image/png": "[encoded data removed]",
      "text/plain": [
       "<Figure size 432x288 with 1 Axes>"
      ]
     },
     "metadata": {
      "needs_background": "light"
     },
     "output_type": "display_data"
    }
   ],
   "source": [
    "fig = plt.figure()\n",
    "ax = fig.add_subplot(111)\n",
    "plt.plot(np.arange(1, len(scores)+1), scores)\n",
    "plt.title('My human performance on CarRacing-v0')\n",
    "plt.ylabel('Score')\n",
    "plt.xlabel('Human Episode')\n",
    "plt.show()"
   ]
  },
  {
   "cell_type": "code",
   "execution_count": null,
   "metadata": {},
   "outputs": [],
   "source": []
  }
 ],
 "metadata": {
  "kernelspec": {
   "display_name": "Python 3",
   "language": "python",
   "name": "python3"
  },
  "language_info": {
   "codemirror_mode": {
    "name": "ipython",
    "version": 3
   },
   "file_extension": ".py",
   "mimetype": "text/x-python",
   "name": "python",
   "nbconvert_exporter": "python",
   "pygments_lexer": "ipython3",
   "version": "3.8.5"
  }
 },
 "nbformat": 4,
 "nbformat_minor": 4
}
