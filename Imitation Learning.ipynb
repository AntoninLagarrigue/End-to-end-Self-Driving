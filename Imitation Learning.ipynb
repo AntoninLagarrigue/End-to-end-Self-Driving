{
 "cells": [
  {
   "cell_type": "code",
   "execution_count": 1,
   "metadata": {},
   "outputs": [
    {
     "name": "stdout",
     "output_type": "stream",
     "text": [
      "\n"
     ]
    }
   ],
   "source": [
    "import gym\n",
    "\n",
    "import tensorflow as tf\n",
    "from tensorflow import keras\n",
    "print(tf.test.gpu_device_name())\n",
    "\n",
    "import cv2\n",
    "\n",
    "import numpy as np\n",
    "from collections import deque\n",
    "\n",
    "%matplotlib inline\n",
    "import matplotlib as mpl\n",
    "import matplotlib.pyplot as plt\n",
    "mpl.rc('axes', labelsize=14)\n",
    "mpl.rc('xtick', labelsize=12)\n",
    "mpl.rc('ytick', labelsize=12)\n",
    "import matplotlib.animation as animation\n",
    "mpl.rc('animation', html='jshtml')\n",
    "\n",
    "from pyglet.window import key\n",
    "import time"
   ]
  },
  {
   "cell_type": "code",
   "execution_count": 2,
   "metadata": {},
   "outputs": [],
   "source": [
    "actions = np.array([0.0, 0.0, 0.0]) "
   ]
  },
  {
   "cell_type": "code",
   "execution_count": 3,
   "metadata": {},
   "outputs": [
    {
     "name": "stderr",
     "output_type": "stream",
     "text": [
      "C:\\Users\\antol\\anaconda3\\lib\\site-packages\\gym\\logger.py:30: UserWarning: \u001b[33mWARN: Box bound precision lowered by casting to float32\u001b[0m\n",
      "  warnings.warn(colorize('%s: %s'%('WARN', msg % args), 'yellow'))\n"
     ]
    }
   ],
   "source": [
    "env_name = \"CarRacing-v0\"\n",
    "env = gym.make(env_name)\n",
    "\n",
    "env.seed(42)\n",
    "np.random.seed(42)"
   ]
  },
  {
   "cell_type": "code",
   "execution_count": 4,
   "metadata": {},
   "outputs": [],
   "source": [
    "class ObservationWrapper(gym.ObservationWrapper):\n",
    "    def __init__(self, env):\n",
    "        super().__init__(env)\n",
    "    \n",
    "    def observation(self, inputs):\n",
    "        inputs = cv2.cvtColor(inputs, cv2.COLOR_BGR2GRAY)\n",
    "        inputs = inputs.astype(float)\n",
    "        inputs /= 255.0\n",
    "        inputs = np.expand_dims(inputs, axis=-1)\n",
    "        return inputs"
   ]
  },
  {
   "cell_type": "code",
   "execution_count": 5,
   "metadata": {},
   "outputs": [],
   "source": [
    "def update_scene(num, frames, patch):\n",
    "    patch.set_data(frames[num])\n",
    "    return patch,\n",
    "\n",
    "def plot_animation(frames, repeat=False, interval=40):\n",
    "    fig = plt.figure()\n",
    "    patch = plt.imshow(frames[0])\n",
    "    plt.axis('off')\n",
    "    anim = animation.FuncAnimation(\n",
    "        fig, update_scene, fargs=(frames, patch),\n",
    "        frames=len(frames), repeat=repeat, interval=interval)\n",
    "    plt.close()\n",
    "    return anim\n",
    "\n",
    "def render_policy_net(env, model, action_space, seed=42):\n",
    "        frames = []\n",
    "        env.seed(seed)\n",
    "        np.random.seed(seed)\n",
    "        obs = env.reset()\n",
    "        negative_reward_counter=0\n",
    "        for step in range(1000):\n",
    "            frames.append(env.render(mode=\"rgb_array\"))\n",
    "            action_probas = model(obs[np.newaxis])\n",
    "            print('action_probas', action_probas)\n",
    "            p=tf.squeeze(action_probas).numpy()\n",
    "            p /= np.sum(p)\n",
    "            action = np.random.choice(range(5), p=p)\n",
    "            print('action', action)\n",
    "            obs, reward, done, info = env.step(action_space[action])\n",
    "            if reward < 0:\n",
    "                negative_reward_counter +=1\n",
    "            else :\n",
    "                negative_reward_counter = 0\n",
    "            if done or negative_reward_counter > 75 :\n",
    "                break\n",
    "        env.close()\n",
    "        return frames"
   ]
  },
  {
   "cell_type": "markdown",
   "metadata": {},
   "source": [
    "## Human Playing"
   ]
  },
  {
   "cell_type": "code",
   "execution_count": 6,
   "metadata": {},
   "outputs": [
    {
     "name": "stdout",
     "output_type": "stream",
     "text": [
      "Track generation: 1077..1359 -> 282-tiles track\n",
      "Track generation: 1328..1664 -> 336-tiles track\n",
      "Step: 0 | Reward: +5.87 | Action: [0. 0. 0.]\n",
      "Step: 200 | Reward: -2.19 | Action: [0. 1. 0.]\n",
      "Step: 400 | Reward: +67.36 | Action: [0. 0. 0.]\n",
      "Step: 600 | Reward: +148.86 | Action: [0. 0. 0.]\n",
      "Trial 1 | Score: 238.51791044776314 | 779 steps | 23.24s.\n",
      "Track generation: 918..1158 -> 240-tiles track\n",
      "Step: 0 | Reward: +8.27 | Action: [0. 0. 0.]\n",
      "Step: 200 | Reward: +143.08 | Action: [-1.  0.  0.]\n",
      "Step: 400 | Reward: +277.89 | Action: [0. 0. 0.]\n",
      "Step: 600 | Reward: +421.07 | Action: [0. 0. 0.]\n",
      "Step: 800 | Reward: +555.88 | Action: [0. 0. 0.]\n",
      "Trial 2 | Score: 574.3037656903667 | 826 steps | 23.13s.\n",
      "Track generation: 1109..1398 -> 289-tiles track\n",
      "Step: 0 | Reward: +6.84 | Action: [0. 0. 0.]\n",
      "Step: 200 | Reward: +156.98 | Action: [0. 0. 0.]\n",
      "Step: 400 | Reward: +279.34 | Action: [-1.  0.  0.]\n",
      "Step: 600 | Reward: +446.84 | Action: [0. 0. 0.]\n",
      "Step: 800 | Reward: +576.15 | Action: [1. 0. 0.]\n",
      "Step: 1000 | Reward: +729.76 | Action: [1. 0. 0.]\n",
      "Step: 1200 | Reward: +737.54 | Action: [0. 0. 0.]\n",
      "Trial 3 | Score: 734.2388888888675 | 1234 steps | 37.69s.\n",
      "Track generation: 1338..1680 -> 342-tiles track\n",
      "retry to generate track (normal if there are not manyinstances of this message)\n",
      "Track generation: 1303..1626 -> 323-tiles track\n",
      "Step: 0 | Reward: +6.11 | Action: [0. 0. 0.]\n",
      "Step: 200 | Reward: +48.22 | Action: [0. 0. 0.]\n",
      "Step: 400 | Reward: +177.29 | Action: [-1.  0.  0.]\n",
      "Trial 4 | Score: 163.29130434782763 | 541 steps | 16.19s.\n",
      "Track generation: 932..1172 -> 240-tiles track\n",
      "retry to generate track (normal if there are not manyinstances of this message)\n",
      "Track generation: 1233..1546 -> 313-tiles track\n",
      "Step: 0 | Reward: +6.31 | Action: [0. 0. 0.]\n",
      "Step: 200 | Reward: -13.69 | Action: [0. 0. 0.]\n",
      "Step: 400 | Reward: +27.21 | Action: [0. 0. 0.]\n",
      "Step: 600 | Reward: +154.64 | Action: [0. 0. 0.]\n",
      "Step: 800 | Reward: +278.87 | Action: [0. 0. 0.]\n",
      "Step: 1000 | Reward: +387.08 | Action: [0. 0. 0.]\n",
      "Step: 1200 | Reward: +498.49 | Action: [0. 0. 0.]\n",
      "Step: 1400 | Reward: +651.57 | Action: [0. 0. 0.]\n",
      "Step: 1600 | Reward: +817.46 | Action: [1. 0. 0.]\n",
      "Trial 5 | Score: 814.6641025640838 | 1629 steps | 47.43s.\n",
      "Track generation: 1202..1506 -> 304-tiles track\n",
      "Step: 0 | Reward: +6.50 | Action: [0. 0. 0.]\n",
      "Step: 200 | Reward: +118.51 | Action: [0. 0. 0.]\n",
      "Step: 400 | Reward: +316.34 | Action: [0. 0. 0.]\n",
      "Step: 600 | Reward: +497.66 | Action: [0. 0. 0.]\n",
      "Step: 800 | Reward: +702.08 | Action: [1. 0. 0.]\n",
      "Step: 1000 | Reward: +807.49 | Action: [1. 0. 0.]\n",
      "Trial 6 | Score: 796.2914191418996 | 1179 steps | 34.68s.\n",
      "Track generation: 1155..1448 -> 293-tiles track\n",
      "Step: 0 | Reward: +6.75 | Action: [0. 0. 0.]\n",
      "Step: 200 | Reward: +144.28 | Action: [0. 0. 0.]\n",
      "Step: 400 | Reward: +367.43 | Action: [0. 0. 0.]\n",
      "Step: 600 | Reward: +594.01 | Action: [-1.  0.  0.]\n",
      "Step: 800 | Reward: +642.50 | Action: [0. 0. 0.]\n",
      "Step: 1000 | Reward: +804.01 | Action: [1. 0. 0.]\n",
      "Trial 7 | Score: 840.6054794520353 | 1046 steps | 30.42s.\n",
      "Track generation: 1061..1331 -> 270-tiles track\n",
      "Step: 0 | Reward: +7.33 | Action: [0. 0. 0.]\n",
      "Step: 200 | Reward: +106.29 | Action: [-1.  0.  0.]\n",
      "Step: 400 | Reward: +298.19 | Action: [0. 0. 0.]\n",
      "Step: 600 | Reward: +478.93 | Action: [0. 0. 0.]\n",
      "Step: 800 | Reward: +678.26 | Action: [0. 0. 0.]\n",
      "Step: 1000 | Reward: +847.86 | Action: [0. 0. 0.]\n",
      "Trial 8 | Score: 845.3553903345586 | 1026 steps | 29.32s.\n",
      "Track generation: 1227..1538 -> 311-tiles track\n",
      "Step: 0 | Reward: +6.35 | Action: [0. 0. 0.]\n",
      "Step: 200 | Reward: +115.38 | Action: [0. 0. 0.]\n",
      "Step: 400 | Reward: +317.96 | Action: [0. 0. 0.]\n",
      "Step: 600 | Reward: +359.25 | Action: [0. 1. 0.]\n",
      "Step: 800 | Reward: +529.58 | Action: [0. 0. 0.]\n",
      "Step: 1000 | Reward: +699.90 | Action: [0. 1. 0.]\n",
      "Step: 1200 | Reward: +837.96 | Action: [0. 0. 0.]\n",
      "Trial 9 | Score: 826.9645161290154 | 1311 steps | 38.81s.\n",
      "Track generation: 1209..1516 -> 307-tiles track\n",
      "Step: 0 | Reward: +6.44 | Action: [0. 0. 0.]\n",
      "Trial 10 | Score: 1.0359477124183067 | 55 steps | 1616452219.75s.\n"
     ]
    }
   ],
   "source": [
    "bool_do_not_quit = True\n",
    "scores = []\n",
    "\n",
    "# arg 0 : steering angle (-1 to 1)\n",
    "# arg 1 : velocity (0 to 1)\n",
    "# arg 2 : braking (0 to 1)\n",
    "\n",
    "def press_key(k, mod):\n",
    "    global bool_do_not_quit, actions, restart\n",
    "    if k==0xff0d: restart = True\n",
    "    if k==key.ESCAPE: bool_do_not_quit=False\n",
    "    if k==key.Q: bool_do_not_quit=False\n",
    "    if k==key.LEFT:  actions[0] = -1.0\n",
    "    if k==key.RIGHT: actions[0] = +1.0\n",
    "    if k==key.UP:    actions[1] = +1.0\n",
    "    if k==key.DOWN:  actions[2] = +0.8\n",
    "\n",
    "def release_key(k, mod):\n",
    "    global actions\n",
    "    if k==key.LEFT  and actions[0]==-1.0: actions[0] = 0\n",
    "    if k==key.RIGHT and actions[0]==+1.0: actions[0] = 0\n",
    "    if k==key.UP:    actions[1] = 0\n",
    "    if k==key.DOWN:  actions[2] = 0\n",
    "\n",
    "def run_carRacing_asHuman(policy=None, record_video=False):\n",
    "    global bool_do_not_quit, actions, restart\n",
    "    # env = CarRacing()\n",
    "    env = gym.make('CarRacing-v0').env\n",
    "\n",
    "    env.reset()\n",
    "    env.render()\n",
    "    if record_video:\n",
    "        env.monitor.start('/tmp/video-test', force=True)\n",
    "    env.viewer.window.on_key_press = press_key\n",
    "    env.viewer.window.on_key_release = release_key\n",
    "\n",
    "    while bool_do_not_quit:\n",
    "        env.reset()\n",
    "        total_reward = 0.0\n",
    "        steps = 0\n",
    "        restart = False\n",
    "        t1 = time.time()  # Trial timer\n",
    "        while bool_do_not_quit:\n",
    "            state, reward, done, info = env.step(actions)\n",
    "            # time.sleep(1/10)  # Slow down to 10fps for us poor little human!\n",
    "            total_reward += reward\n",
    "            if steps % 200 == 0 or done:\n",
    "                print(\"Step: {} | Reward: {:+0.2f}\".format(steps, total_reward), \"| Action:\", actions)\n",
    "            steps += 1\n",
    "            if not record_video: # Faster, but you can as well call env.render() every time to play full window.\n",
    "                env.render()\n",
    "            if done or restart:\n",
    "                t1 = time.time()-t1\n",
    "                scores.append(total_reward)\n",
    "                print(\"Trial\", len(scores), \"| Score:\", total_reward, '|', steps, \"steps | %0.2fs.\"% t1)\n",
    "                break\n",
    "        if not bool_do_not_quit:\n",
    "            scores.append(total_reward)\n",
    "            print(\"Trial\", len(scores), \"| Score:\", total_reward, '|', steps, \"steps | %0.2fs.\"% t1)\n",
    "    env.close()\n",
    "\n",
    "run_carRacing_asHuman()  # Run with human keyboard input"
   ]
  },
  {
   "cell_type": "code",
   "execution_count": 9,
   "metadata": {},
   "outputs": [],
   "source": [
    "env.close()"
   ]
  },
  {
   "cell_type": "code",
   "execution_count": 7,
   "metadata": {},
   "outputs": [
    {
     "data": {
      "image/png": "[encoded data removed]",
      "text/plain": [
       "<Figure size 432x288 with 1 Axes>"
      ]
     },
     "metadata": {
      "needs_background": "light"
     },
     "output_type": "display_data"
    }
   ],
   "source": [
    "fig = plt.figure()\n",
    "ax = fig.add_subplot(111)\n",
    "plt.plot(np.arange(1, len(scores)+1), scores)\n",
    "plt.title('My human performance on CarRacing-v0')\n",
    "plt.ylabel('Score')\n",
    "plt.xlabel('Human Episode')\n",
    "plt.show()"
   ]
  },
  {
   "cell_type": "code",
   "execution_count": null,
   "metadata": {},
   "outputs": [],
   "source": []
  }
 ],
 "metadata": {
  "kernelspec": {
   "display_name": "Python 3",
   "language": "python",
   "name": "python3"
  },
  "language_info": {
   "codemirror_mode": {
    "name": "ipython",
    "version": 3
   },
   "file_extension": ".py",
   "mimetype": "text/x-python",
   "name": "python",
   "nbconvert_exporter": "python",
   "pygments_lexer": "ipython3",
   "version": "3.8.5"
  }
 },
 "nbformat": 4,
 "nbformat_minor": 4
}
