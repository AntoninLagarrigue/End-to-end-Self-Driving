{
 "cells": [
  {
   "cell_type": "code",
   "execution_count": 2,
   "metadata": {},
   "outputs": [
    {
     "name": "stdout",
     "output_type": "stream",
     "text": [
      "\n"
     ]
    }
   ],
   "source": [
    "import gym\n",
    "\n",
    "import tensorflow as tf\n",
    "from tensorflow import keras\n",
    "print(tf.test.gpu_device_name())\n",
    "\n",
    "import cv2\n",
    "\n",
    "import numpy as np\n",
    "from collections import deque\n",
    "\n",
    "%matplotlib inline\n",
    "import matplotlib as mpl\n",
    "import matplotlib.pyplot as plt\n",
    "mpl.rc('axes', labelsize=14)\n",
    "mpl.rc('xtick', labelsize=12)\n",
    "mpl.rc('ytick', labelsize=12)\n",
    "import matplotlib.animation as animation\n",
    "mpl.rc('animation', html='jshtml')\n",
    "\n",
    "from pyglet.window import key\n",
    "import time"
   ]
  },
  {
   "cell_type": "code",
   "execution_count": 3,
   "metadata": {},
   "outputs": [],
   "source": [
    "actions = np.array([0.0, 0.0, 0.0]) "
   ]
  },
  {
   "cell_type": "code",
   "execution_count": 4,
   "metadata": {},
   "outputs": [
    {
     "name": "stderr",
     "output_type": "stream",
     "text": [
      "C:\\Users\\antol\\anaconda3\\lib\\site-packages\\gym\\logger.py:30: UserWarning: \u001b[33mWARN: Box bound precision lowered by casting to float32\u001b[0m\n",
      "  warnings.warn(colorize('%s: %s'%('WARN', msg % args), 'yellow'))\n"
     ]
    }
   ],
   "source": [
    "env_name = \"CarRacing-v0\"\n",
    "env = gym.make(env_name)\n",
    "\n",
    "env.seed(42)\n",
    "np.random.seed(42)"
   ]
  },
  {
   "cell_type": "code",
   "execution_count": 5,
   "metadata": {},
   "outputs": [],
   "source": [
    "class ObservationWrapper(gym.ObservationWrapper):\n",
    "    def __init__(self, env):\n",
    "        super().__init__(env)\n",
    "    \n",
    "    def observation(self, inputs):\n",
    "        inputs = cv2.cvtColor(inputs, cv2.COLOR_BGR2GRAY)\n",
    "        inputs = inputs.astype(float)\n",
    "        inputs /= 255.0\n",
    "        inputs = np.expand_dims(inputs, axis=-1)\n",
    "        return inputs"
   ]
  },
  {
   "cell_type": "code",
   "execution_count": 6,
   "metadata": {},
   "outputs": [],
   "source": [
    "def update_scene(num, frames, patch):\n",
    "    patch.set_data(frames[num])\n",
    "    return patch,\n",
    "\n",
    "def plot_animation(frames, repeat=False, interval=40):\n",
    "    fig = plt.figure()\n",
    "    patch = plt.imshow(frames[0])\n",
    "    plt.axis('off')\n",
    "    anim = animation.FuncAnimation(\n",
    "        fig, update_scene, fargs=(frames, patch),\n",
    "        frames=len(frames), repeat=repeat, interval=interval)\n",
    "    plt.close()\n",
    "    return anim\n",
    "\n",
    "def render_policy_net(env, model, action_space, seed=42):\n",
    "        frames = []\n",
    "        env.seed(seed)\n",
    "        np.random.seed(seed)\n",
    "        obs = env.reset()\n",
    "        negative_reward_counter=0\n",
    "        for step in range(1000):\n",
    "            frames.append(env.render(mode=\"rgb_array\"))\n",
    "            action_probas = model(obs[np.newaxis])\n",
    "            print('action_probas', action_probas)\n",
    "            p=tf.squeeze(action_probas).numpy()\n",
    "            p /= np.sum(p)\n",
    "            action = np.random.choice(range(5), p=p)\n",
    "            print('action', action)\n",
    "            obs, reward, done, info = env.step(action_space[action])\n",
    "            if reward < 0:\n",
    "                negative_reward_counter +=1\n",
    "            else :\n",
    "                negative_reward_counter = 0\n",
    "            if done or negative_reward_counter > 75 :\n",
    "                break\n",
    "        env.close()\n",
    "        return frames"
   ]
  },
  {
   "cell_type": "markdown",
   "metadata": {},
   "source": [
    "## Human Playing"
   ]
  },
  {
   "cell_type": "code",
   "execution_count": null,
   "metadata": {},
   "outputs": [
    {
     "name": "stderr",
     "output_type": "stream",
     "text": [
      "C:\\Users\\antol\\anaconda3\\lib\\site-packages\\gym\\logger.py:30: UserWarning: \u001b[33mWARN: Box bound precision lowered by casting to float32\u001b[0m\n",
      "  warnings.warn(colorize('%s: %s'%('WARN', msg % args), 'yellow'))\n"
     ]
    },
    {
     "name": "stdout",
     "output_type": "stream",
     "text": [
      "Track generation: 1307..1638 -> 331-tiles track\n",
      "Track generation: 1168..1474 -> 306-tiles track\n",
      "Step: 0 | Reward: +6.46 | Action: [0. 0. 0.]\n",
      "Step: 200 | Reward: -13.54 | Action: [0. 0. 0.]\n",
      "Step: 400 | Reward: -33.54 | Action: [0. 0. 0.]\n",
      "Step: 600 | Reward: -53.54 | Action: [0. 0. 0.]\n",
      "Step: 800 | Reward: -73.54 | Action: [0. 0. 0.]\n",
      "Step: 1000 | Reward: -93.54 | Action: [0. 0. 0.]\n",
      "Step: 1200 | Reward: -113.54 | Action: [0. 0. 0.]\n",
      "Step: 1400 | Reward: -133.54 | Action: [0. 0. 0.]\n",
      "Step: 1600 | Reward: -153.54 | Action: [0. 0. 0.]\n",
      "Step: 1800 | Reward: -173.54 | Action: [0. 0. 0.]\n",
      "Step: 2000 | Reward: -193.54 | Action: [0. 0. 0.]\n",
      "Step: 2200 | Reward: -213.54 | Action: [0. 0. 0.]\n",
      "Step: 2400 | Reward: -233.54 | Action: [0. 0. 0.]\n",
      "Step: 2600 | Reward: -253.54 | Action: [0. 0. 0.]\n",
      "Step: 2800 | Reward: -273.54 | Action: [0. 0. 0.]\n",
      "Step: 3000 | Reward: -293.54 | Action: [0. 0. 0.]\n",
      "Step: 3200 | Reward: -313.54 | Action: [0. 0. 0.]\n",
      "Step: 3400 | Reward: -333.54 | Action: [0. 0. 0.]\n",
      "Step: 3600 | Reward: -353.54 | Action: [0. 0. 0.]\n",
      "Step: 3800 | Reward: -373.54 | Action: [0. 0. 0.]\n",
      "Step: 4000 | Reward: -393.54 | Action: [0. 0. 0.]\n",
      "Step: 4200 | Reward: -413.54 | Action: [0. 0. 0.]\n",
      "Step: 4400 | Reward: -433.54 | Action: [0. 0. 0.]\n",
      "Step: 4600 | Reward: -453.54 | Action: [0. 0. 0.]\n",
      "Step: 4800 | Reward: -473.54 | Action: [0. 0. 0.]\n",
      "Step: 5000 | Reward: -493.54 | Action: [0. 0. 0.]\n",
      "Step: 5200 | Reward: -513.54 | Action: [0. 0. 0.]\n",
      "Step: 5400 | Reward: -533.54 | Action: [0. 0. 0.]\n",
      "Step: 5600 | Reward: -553.54 | Action: [0. 0. 0.]\n",
      "Step: 5800 | Reward: -573.54 | Action: [0. 0. 0.]\n",
      "Step: 6000 | Reward: -593.54 | Action: [0. 0. 0.]\n",
      "Step: 6200 | Reward: -613.54 | Action: [0. 0. 0.]\n",
      "Step: 6400 | Reward: -633.54 | Action: [0. 0. 0.]\n",
      "Step: 6600 | Reward: -653.54 | Action: [0. 0. 0.]\n",
      "Step: 6800 | Reward: -673.54 | Action: [0. 0. 0.]\n",
      "Step: 7000 | Reward: -693.54 | Action: [0. 0. 0.]\n",
      "Step: 7200 | Reward: -713.54 | Action: [0. 0. 0.]\n",
      "Step: 7400 | Reward: -733.54 | Action: [0. 0. 0.]\n",
      "Step: 7600 | Reward: -753.54 | Action: [0. 0. 0.]\n",
      "Step: 7800 | Reward: -773.54 | Action: [0. 0. 0.]\n",
      "Step: 8000 | Reward: -793.54 | Action: [0. 0. 0.]\n",
      "Step: 8200 | Reward: -813.54 | Action: [0. 0. 0.]\n",
      "Step: 8400 | Reward: -833.54 | Action: [0. 0. 0.]\n",
      "Step: 8600 | Reward: -853.54 | Action: [0. 0. 0.]\n",
      "Step: 8800 | Reward: -873.54 | Action: [0. 0. 0.]\n",
      "Step: 9000 | Reward: -893.54 | Action: [0. 0. 0.]\n",
      "Step: 9200 | Reward: -913.54 | Action: [0. 0. 0.]\n",
      "Step: 9400 | Reward: -933.54 | Action: [0. 0. 0.]\n",
      "Step: 9600 | Reward: -953.54 | Action: [0. 0. 0.]\n",
      "Step: 9800 | Reward: -973.54 | Action: [0. 0. 0.]\n",
      "Step: 10000 | Reward: -993.54 | Action: [0. 0. 0.]\n",
      "Step: 10200 | Reward: -1013.54 | Action: [0. 0. 0.]\n",
      "Step: 10400 | Reward: -1033.54 | Action: [0. 0. 0.]\n",
      "Step: 10600 | Reward: -1053.54 | Action: [0. 0. 0.]\n",
      "Step: 10800 | Reward: -1073.54 | Action: [0. 0. 0.]\n",
      "Step: 11000 | Reward: -1093.54 | Action: [0. 0. 0.]\n",
      "Step: 11200 | Reward: -1113.54 | Action: [0. 0. 0.]\n",
      "Step: 11400 | Reward: -1133.54 | Action: [0. 0. 0.]\n",
      "Step: 11600 | Reward: -1153.54 | Action: [0. 0. 0.]\n",
      "Step: 11800 | Reward: -1173.54 | Action: [0. 0. 0.]\n",
      "Step: 12000 | Reward: -1193.54 | Action: [0. 0. 0.]\n",
      "Step: 12200 | Reward: -1213.54 | Action: [0. 0. 0.]\n",
      "Step: 12400 | Reward: -1233.54 | Action: [0. 0. 0.]\n",
      "Step: 12600 | Reward: -1253.54 | Action: [0. 0. 0.]\n",
      "Step: 12800 | Reward: -1273.54 | Action: [0. 0. 0.]\n",
      "Step: 13000 | Reward: -1293.54 | Action: [0. 0. 0.]\n",
      "Step: 13200 | Reward: -1313.54 | Action: [0. 0. 0.]\n",
      "Step: 13400 | Reward: -1333.54 | Action: [0. 0. 0.]\n",
      "Step: 13600 | Reward: -1353.54 | Action: [0. 0. 0.]\n",
      "Step: 13800 | Reward: -1373.54 | Action: [0. 0. 0.]\n",
      "Step: 14000 | Reward: -1393.54 | Action: [0. 0. 0.]\n",
      "Step: 14200 | Reward: -1413.54 | Action: [0. 0. 0.]\n",
      "Step: 14400 | Reward: -1433.54 | Action: [0. 0. 0.]\n",
      "Step: 14600 | Reward: -1453.54 | Action: [0. 0. 0.]\n",
      "Step: 14800 | Reward: -1473.54 | Action: [0. 0. 0.]\n"
     ]
    }
   ],
   "source": [
    "bool_do_not_quit = True\n",
    "scores = []\n",
    "\n",
    "# arg 0 : steering angle (-1 to 1)\n",
    "# arg 1 : velocity (0 to 1)\n",
    "# arg 2 : braking (0 to 1)\n",
    "\n",
    "def press_key(k, mod):\n",
    "    global bool_do_not_quit, actions, restart\n",
    "    if k==0xff0d: restart = True\n",
    "    if k==key.ESCAPE: bool_do_not_quit=False\n",
    "    if k==key.Q: bool_do_not_quit=False\n",
    "    if k==key.LEFT:  actions[0] = -1.0\n",
    "    if k==key.RIGHT: actions[0] = +1.0\n",
    "    if k==key.UP:    actions[1] = +1.0\n",
    "    if k==key.DOWN:  actions[2] = +0.8\n",
    "\n",
    "def release_key(k, mod):\n",
    "    global actions\n",
    "    if k==key.LEFT  and actions[0]==-1.0: actions[0] = 0\n",
    "    if k==key.RIGHT and actions[0]==+1.0: actions[0] = 0\n",
    "    if k==key.UP:    actions[1] = 0\n",
    "    if k==key.DOWN:  actions[2] = 0\n",
    "\n",
    "def run_carRacing_asHuman(policy=None, record_video=False):\n",
    "    global bool_do_not_quit, actions, restart\n",
    "    # env = CarRacing()\n",
    "    env = gym.make('CarRacing-v0').env\n",
    "\n",
    "    env.reset()\n",
    "    env.render()\n",
    "    if record_video:\n",
    "        env.monitor.start('/tmp/video-test', force=True)\n",
    "    env.viewer.window.on_key_press = press_key\n",
    "    env.viewer.window.on_key_release = release_key\n",
    "\n",
    "    while bool_do_not_quit:\n",
    "        env.reset()\n",
    "        total_reward = 0.0\n",
    "        steps = 0\n",
    "        restart = False\n",
    "        t1 = time.time()  # Trial timer\n",
    "        while bool_do_not_quit:\n",
    "            state, reward, done, info = env.step(actions)\n",
    "            # time.sleep(1/10)  # Slow down to 10fps for us poor little human!\n",
    "            total_reward += reward\n",
    "            if steps % 200 == 0 or done:\n",
    "                print(\"Step: {} | Reward: {:+0.2f}\".format(steps, total_reward), \"| Action:\", actions)\n",
    "            steps += 1\n",
    "            #if not record_video: # Faster, but you can as well call env.render() every time to play full window.\n",
    "                #env.render()\n",
    "            if done or restart:\n",
    "                t1 = time.time()-t1\n",
    "                scores.append(total_reward)\n",
    "                print(\"Trial\", len(scores), \"| Score:\", total_reward, '|', steps, \"steps | %0.2fs.\"% t1)\n",
    "                break\n",
    "        if not bool_do_not_quit:\n",
    "            scores.append(total_reward)\n",
    "            print(\"Trial\", len(scores), \"| Score:\", total_reward, '|', steps, \"steps | %0.2fs.\"% t1)\n",
    "    env.close()\n",
    "\n",
    "run_carRacing_asHuman()  # Run with human keyboard input"
   ]
  },
  {
   "cell_type": "code",
   "execution_count": null,
   "metadata": {},
   "outputs": [],
   "source": [
    "env.close()"
   ]
  },
  {
   "cell_type": "code",
   "execution_count": 10,
   "metadata": {},
   "outputs": [
    {
     "data": {
      "image/png": "[encoded data removed]",
      "text/plain": [
       "<Figure size 432x288 with 1 Axes>"
      ]
     },
     "metadata": {
      "needs_background": "light"
     },
     "output_type": "display_data"
    }
   ],
   "source": [
    "fig = plt.figure()\n",
    "ax = fig.add_subplot(111)\n",
    "plt.plot(np.arange(1, len(scores)+1), scores)\n",
    "plt.title('My human performance on CarRacing-v0')\n",
    "plt.ylabel('Score')\n",
    "plt.xlabel('Human Episode')\n",
    "plt.show()"
   ]
  },
  {
   "cell_type": "code",
   "execution_count": null,
   "metadata": {},
   "outputs": [],
   "source": []
  }
 ],
 "metadata": {
  "kernelspec": {
   "display_name": "Python 3",
   "language": "python",
   "name": "python3"
  },
  "language_info": {
   "codemirror_mode": {
    "name": "ipython",
    "version": 3
   },
   "file_extension": ".py",
   "mimetype": "text/x-python",
   "name": "python",
   "nbconvert_exporter": "python",
   "pygments_lexer": "ipython3",
   "version": "3.8.5"
  }
 },
 "nbformat": 4,
 "nbformat_minor": 4
}
